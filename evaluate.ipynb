{
  "cells": [
    {
      "cell_type": "code",
      "execution_count": null,
      "metadata": {
        "id": "8wHe_qlbxj_M"
      },
      "outputs": [],
      "source": [
        "%%capture\n",
        "!pip3 install torch torchvision --extra-index-url https://download.pytorch.org/whl/cu116\n",
        "!pip3 install rdkit\n",
        "!pip3 install git+https://github.com/molecularsets/moses.git"
      ]
    },
    {
      "cell_type": "code",
      "execution_count": null,
      "metadata": {
        "colab": {
          "base_uri": "https://localhost:8080/"
        },
        "id": "jEYylJrHx6vp",
        "outputId": "98848d7b-e07b-4145-b938-dffccc8b6dd8"
      },
      "outputs": [
        {
          "output_type": "stream",
          "name": "stderr",
          "text": [
            "/usr/local/lib/python3.10/dist-packages/moses/metrics/utils.py:24: FutureWarning: The frame.append method is deprecated and will be removed from pandas in a future version. Use pandas.concat instead.\n",
            "  _mcf.append(_pains, sort=True)['smarts'].values]\n"
          ]
        }
      ],
      "source": [
        "import pandas as pd\n",
        "import numpy as np\n",
        "import torch\n",
        "torch.cuda.set_device(0)\n",
        "import sys\n",
        "import os\n",
        "import tarfile\n",
        "import gzip\n",
        "import shutil\n",
        "from rdkit import Chem\n",
        "from rdkit.Chem import AllChem\n",
        "import torch.nn as nn\n",
        "import torch.optim as optim\n",
        "from rdkit.Chem import Draw, inchi\n",
        "from rdkit.Chem.Draw import DrawingOptions\n",
        "from torch.utils.data import DataLoader, TensorDataset, Dataset\n",
        "from torchvision import transforms\n",
        "from sklearn.model_selection import train_test_split\n",
        "import matplotlib.pyplot as plt\n",
        "import random\n",
        "from rdkit import Chem\n",
        "from rdkit.Chem import AllChem, Descriptors, QED, RDConfig\n",
        "from rdkit.DataStructs import TanimotoSimilarity\n",
        "import os\n",
        "import sys\n",
        "sys.path.append(os.path.join(RDConfig.RDContribDir, 'SA_Score'))\n",
        "import sascorer\n",
        "from moses.utils import disable_rdkit_log\n",
        "from moses.metrics.utils import get_mol\n",
        "disable_rdkit_log()"
      ]
    },
    {
      "cell_type": "code",
      "execution_count": null,
      "metadata": {
        "colab": {
          "base_uri": "https://localhost:8080/"
        },
        "id": "5ICwfTNFx-Cy",
        "outputId": "7775b0ac-7954-4337-b7bb-c719e9d8d8ea"
      },
      "outputs": [
        {
          "output_type": "stream",
          "name": "stdout",
          "text": [
            "cuda\n"
          ]
        }
      ],
      "source": [
        "device = torch.device('cuda' if torch.cuda.is_available() else 'cpu')\n",
        "print(device)"
      ]
    },
    {
      "cell_type": "code",
      "execution_count": null,
      "metadata": {
        "colab": {
          "base_uri": "https://localhost:8080/"
        },
        "id": "EM6blY1Jx_zW",
        "outputId": "67c8b8c9-2c3c-4b59-d739-58ecc1e9bc2b"
      },
      "outputs": [
        {
          "output_type": "stream",
          "name": "stdout",
          "text": [
            "Mounted at /content/gdrive\n"
          ]
        }
      ],
      "source": [
        "from google.colab import drive\n",
        "drive.mount('/content/gdrive')"
      ]
    },
    {
      "cell_type": "code",
      "execution_count": null,
      "metadata": {
        "id": "L5IN05RNyA7U"
      },
      "outputs": [],
      "source": [
        "os.chdir('/content/gdrive/My Drive/GENTRL-private')"
      ]
    },
    {
      "cell_type": "code",
      "execution_count": null,
      "metadata": {
        "id": "mRb99DWcyGZI"
      },
      "outputs": [],
      "source": [
        "# Activity prediction model definition\n",
        "class EnhancedCNN(nn.Module):\n",
        "    def __init__(self):\n",
        "        super(EnhancedCNN, self).__init__()\n",
        "\n",
        "        self.conv_layers = nn.Sequential(\n",
        "            nn.Conv2d(3, 64, 3, padding=1),\n",
        "            nn.BatchNorm2d(64),\n",
        "            nn.ReLU(),\n",
        "            nn.MaxPool2d(2, 2),\n",
        "\n",
        "            nn.Conv2d(64, 128, 3, padding=1),\n",
        "            nn.BatchNorm2d(128),\n",
        "            nn.ReLU(),\n",
        "            nn.MaxPool2d(2, 2),\n",
        "\n",
        "            nn.Conv2d(128, 256, 3, padding=1),\n",
        "            nn.BatchNorm2d(256),\n",
        "            nn.ReLU(),\n",
        "            nn.MaxPool2d(2, 2),\n",
        "\n",
        "            nn.Conv2d(256, 512, 3, padding=1),\n",
        "            nn.BatchNorm2d(512),\n",
        "            nn.ReLU(),\n",
        "            nn.MaxPool2d(2, 2),\n",
        "\n",
        "            nn.Conv2d(512, 512, 3, padding=1),\n",
        "            nn.BatchNorm2d(512),\n",
        "            nn.ReLU(),\n",
        "            nn.MaxPool2d(2, 2),\n",
        "        )\n",
        "\n",
        "        self.fc_layers = nn.Sequential(\n",
        "            nn.Linear(2048, 4096),\n",
        "            nn.ReLU(),\n",
        "            nn.Dropout(0.5),\n",
        "\n",
        "            nn.Linear(4096, 4096),\n",
        "            nn.ReLU(),\n",
        "            nn.Dropout(0.5),\n",
        "\n",
        "            nn.Linear(4096, 1)\n",
        "        )\n",
        "\n",
        "    def forward(self, x):\n",
        "        x = self.conv_layers(x)\n",
        "        x = x.view(x.size(0), -1)\n",
        "        x = self.fc_layers(x)\n",
        "        return x\n"
      ]
    },
    {
      "cell_type": "code",
      "execution_count": null,
      "metadata": {
        "colab": {
          "base_uri": "https://localhost:8080/"
        },
        "id": "fb4f4i9UyNob",
        "outputId": "b1374357-7404-48f2-a9c2-0a120d5ac70a"
      },
      "outputs": [
        {
          "output_type": "execute_result",
          "data": {
            "text/plain": [
              "EnhancedCNN(\n",
              "  (conv_layers): Sequential(\n",
              "    (0): Conv2d(3, 64, kernel_size=(3, 3), stride=(1, 1), padding=(1, 1))\n",
              "    (1): BatchNorm2d(64, eps=1e-05, momentum=0.1, affine=True, track_running_stats=True)\n",
              "    (2): ReLU()\n",
              "    (3): MaxPool2d(kernel_size=2, stride=2, padding=0, dilation=1, ceil_mode=False)\n",
              "    (4): Conv2d(64, 128, kernel_size=(3, 3), stride=(1, 1), padding=(1, 1))\n",
              "    (5): BatchNorm2d(128, eps=1e-05, momentum=0.1, affine=True, track_running_stats=True)\n",
              "    (6): ReLU()\n",
              "    (7): MaxPool2d(kernel_size=2, stride=2, padding=0, dilation=1, ceil_mode=False)\n",
              "    (8): Conv2d(128, 256, kernel_size=(3, 3), stride=(1, 1), padding=(1, 1))\n",
              "    (9): BatchNorm2d(256, eps=1e-05, momentum=0.1, affine=True, track_running_stats=True)\n",
              "    (10): ReLU()\n",
              "    (11): MaxPool2d(kernel_size=2, stride=2, padding=0, dilation=1, ceil_mode=False)\n",
              "    (12): Conv2d(256, 512, kernel_size=(3, 3), stride=(1, 1), padding=(1, 1))\n",
              "    (13): BatchNorm2d(512, eps=1e-05, momentum=0.1, affine=True, track_running_stats=True)\n",
              "    (14): ReLU()\n",
              "    (15): MaxPool2d(kernel_size=2, stride=2, padding=0, dilation=1, ceil_mode=False)\n",
              "    (16): Conv2d(512, 512, kernel_size=(3, 3), stride=(1, 1), padding=(1, 1))\n",
              "    (17): BatchNorm2d(512, eps=1e-05, momentum=0.1, affine=True, track_running_stats=True)\n",
              "    (18): ReLU()\n",
              "    (19): MaxPool2d(kernel_size=2, stride=2, padding=0, dilation=1, ceil_mode=False)\n",
              "  )\n",
              "  (fc_layers): Sequential(\n",
              "    (0): Linear(in_features=2048, out_features=4096, bias=True)\n",
              "    (1): ReLU()\n",
              "    (2): Dropout(p=0.5, inplace=False)\n",
              "    (3): Linear(in_features=4096, out_features=4096, bias=True)\n",
              "    (4): ReLU()\n",
              "    (5): Dropout(p=0.5, inplace=False)\n",
              "    (6): Linear(in_features=4096, out_features=1, bias=True)\n",
              "  )\n",
              ")"
            ]
          },
          "metadata": {},
          "execution_count": 7
        }
      ],
      "source": [
        "model = EnhancedCNN()\n",
        "model.load_state_dict(torch.load('./models/esr1_active-pred_model.pth'))\n",
        "model = model.to(device)\n",
        "model.eval()"
      ]
    },
    {
      "cell_type": "code",
      "execution_count": null,
      "metadata": {
        "id": "PXFmDYPmyUG1"
      },
      "outputs": [],
      "source": [
        "# TO USE FOR PREDICTION - COMPLETE METRICS\n",
        "\n",
        "import torch\n",
        "from rdkit import Chem\n",
        "from rdkit.Chem import AllChem\n",
        "from sklearn.model_selection import train_test_split\n",
        "from torch.utils.data import Dataset, DataLoader\n",
        "import numpy as np\n",
        "from collections import Counter\n",
        "\n",
        "def generate_chemception_image(mol, dim=80):\n",
        "    # Initialize the image to be of size dim x dim with all zeros (vacuum)\n",
        "    image = np.zeros((dim, dim, 3))\n",
        "    mol = Chem.AddHs(mol)\n",
        "\n",
        "    # Get molecule coordinates after embedding\n",
        "    if AllChem.EmbedMolecule(mol, Chem.AllChem.ETKDG()) == -1:\n",
        "        # Embedding failed\n",
        "        print(\"Embedding failed for molecule with SMILES:\", Chem.MolToSmiles(mol))\n",
        "        return None\n",
        "\n",
        "    AllChem.EmbedMolecule(mol, AllChem.ETKDG())\n",
        "    conf = mol.GetConformer(0)\n",
        "\n",
        "    # Scale and translate coordinates to fit the image dimensions\n",
        "    xs = [conf.GetAtomPosition(i).x for i in range(mol.GetNumAtoms())]\n",
        "    ys = [conf.GetAtomPosition(i).y for i in range(mol.GetNumAtoms())]\n",
        "    x_min, x_max = min(xs), max(xs)\n",
        "    y_min, y_max = min(ys), max(ys)\n",
        "    x_range, y_range = x_max - x_min, y_max - y_min\n",
        "\n",
        "    scale = 0.95 * dim / max(x_range, y_range)  # Scale down by 95% to provide some buffer\n",
        "    x_trans, y_trans = (x_max + x_min)/2, (y_max + y_min)/2\n",
        "\n",
        "    # Assign values to the grid based on atomic properties\n",
        "    for i in range(mol.GetNumAtoms()):\n",
        "        x, y = conf.GetAtomPosition(i).x, conf.GetAtomPosition(i).y\n",
        "        x, y = int((x - x_trans) * scale + dim/2), int((y - y_trans) * scale + dim/2)\n",
        "\n",
        "        # Make sure coordinates are inside the image\n",
        "        x = max(0, min(dim-1, x))\n",
        "        y = max(0, min(dim-1, y))\n",
        "\n",
        "        # Atomic mass channel (channel 0)\n",
        "        atom = mol.GetAtomWithIdx(i)\n",
        "        image[y, x, 0] = atom.GetMass()\n",
        "\n",
        "    # Assign values based on bonds\n",
        "    for bond in mol.GetBonds():\n",
        "        start, end = bond.GetBeginAtomIdx(), bond.GetEndAtomIdx()\n",
        "        x_start, y_start = conf.GetAtomPosition(start).x, conf.GetAtomPosition(start).y\n",
        "        x_end, y_end = conf.GetAtomPosition(end).x, conf.GetAtomPosition(end).y\n",
        "\n",
        "        x_start, y_start = int((x_start - x_trans) * scale + dim/2), int((y_start - y_trans) * scale + dim/2)\n",
        "        x_end, y_end = int((x_end - x_trans) * scale + dim/2), int((y_end - y_trans) * scale + dim/2)\n",
        "\n",
        "        # Drawing a simple line between start and end (there are more efficient ways for anti-aliased lines, etc.)\n",
        "        dx, dy = x_end - x_start, y_end - y_start\n",
        "        dist = int(np.sqrt(dx*dx + dy*dy))\n",
        "        for i in range(dist):\n",
        "            x, y = x_start + i*dx/dist, y_start + i*dy/dist\n",
        "            if 0 <= x < dim and 0 <= y < dim:\n",
        "                image[int(y), int(x), 1] = 2  # Bond channel (channel 1)\n",
        "\n",
        "    return torch.tensor(image).permute(2, 0, 1)  # Channels first format\n",
        "\n",
        "class PredictMoleculeDataset(Dataset):\n",
        "    def __init__(self, tensors, smiles):\n",
        "        self.tensors = tensors\n",
        "        self.smiles = smiles\n",
        "\n",
        "    def __len__(self):\n",
        "        return len(self.tensors)\n",
        "\n",
        "    def __getitem__(self, idx):\n",
        "        return self.tensors[idx], self.smiles[idx]\n",
        "\n",
        "def prepare_dataset(smiles_list):\n",
        "    data_tensors = []\n",
        "    successful_smiles = []\n",
        "\n",
        "    for smiles in smiles_list:\n",
        "        mol = Chem.MolFromSmiles(smiles)\n",
        "        if mol:\n",
        "            image_tensor = generate_chemception_image(mol)\n",
        "            if image_tensor is not None:  # Ensure embedding was successful\n",
        "                data_tensors.append(image_tensor)\n",
        "                successful_smiles.append(smiles)\n",
        "\n",
        "    data_tensor = torch.stack(data_tensors).float()\n",
        "\n",
        "    # Create the dataset\n",
        "    dataset = PredictMoleculeDataset(data_tensor, successful_smiles)\n",
        "\n",
        "    return dataset\n",
        "\n",
        "# Categorise only values classified with probability that is over a certain treshold\n",
        "def categorize_output(raw_output):\n",
        "  prob = torch.sigmoid(raw_output).item()\n",
        "  if prob > 0.8:\n",
        "      return 1\n",
        "  elif prob < 0.2:\n",
        "      return 0\n",
        "  else:\n",
        "      return 'unsure'\n",
        "\n",
        "def predict_all_molecules(model, data_loader):\n",
        "    active_outputs = []\n",
        "    inactive_outputs = []\n",
        "    all_molecule_smiles = []\n",
        "\n",
        "    with torch.no_grad():\n",
        "        for inputs, smiles_batch in data_loader:\n",
        "            inputs = inputs.to(device)\n",
        "            outputs = model(inputs)\n",
        "\n",
        "            for idx, raw_output in enumerate(outputs):\n",
        "                category = categorize_output(raw_output)\n",
        "                if category == 1:\n",
        "                    active_outputs.append((torch.sigmoid(raw_output).item(), smiles_batch[idx]))\n",
        "                elif category == 0:\n",
        "                    inactive_outputs.append((torch.sigmoid(raw_output).item(), smiles_batch[idx]))\n",
        "\n",
        "    # Sort predictions and molecule_smiles together\n",
        "    sorted_active_molecules = sorted(active_outputs, key=lambda x: x[0], reverse=True)\n",
        "    sorted_inactive_molecules = sorted(inactive_outputs, key=lambda x: x[0])\n",
        "\n",
        "    # Get top 10 active and inactive molecules\n",
        "    active_smiles = [item[1] for item in sorted_active_molecules]\n",
        "    inactive_smiles = [item[1] for item in sorted_inactive_molecules]\n",
        "\n",
        "    return active_smiles, inactive_smiles\n",
        "\n",
        "# Only get molecules that have been consistently classified as active/inactive\n",
        "def get_consistent_molecules(model, data_loader, runs=5):\n",
        "    all_active = []\n",
        "    all_inactive = []\n",
        "\n",
        "    for _ in range(runs):\n",
        "        active, inactive = predict_all_molecules(model, data_loader)\n",
        "        all_active.extend(active)\n",
        "        all_inactive.extend(inactive)\n",
        "\n",
        "    active_counts = Counter(all_active)\n",
        "    inactive_counts = Counter(all_inactive)\n",
        "\n",
        "    consistent_active = [smiles for smiles, count in active_counts.items() if count >= 4]\n",
        "    consistent_inactive = [smiles for smiles, count in inactive_counts.items() if count >= 4]\n",
        "\n",
        "    return consistent_active, consistent_inactive"
      ]
    },
    {
      "cell_type": "code",
      "execution_count": null,
      "metadata": {
        "id": "415OgYvk7wdQ"
      },
      "outputs": [],
      "source": [
        "def get_mol(smiles_or_mol):\n",
        "    '''\n",
        "    Loads SMILES/molecule into RDKit's object\n",
        "    '''\n",
        "    if isinstance(smiles_or_mol, str):\n",
        "        if len(smiles_or_mol) == 0:\n",
        "            return None\n",
        "        mol = Chem.MolFromSmiles(smiles_or_mol)\n",
        "        if mol is None:\n",
        "            return None\n",
        "        try:\n",
        "            Chem.SanitizeMol(mol)\n",
        "        except:\n",
        "            return None\n",
        "        return mol\n",
        "    return smiles_or_mol"
      ]
    },
    {
      "cell_type": "code",
      "execution_count": null,
      "metadata": {
        "id": "PgtrKQx-yvlV"
      },
      "outputs": [],
      "source": [
        "# Get all the metrics of interest for a list of SMILES\n",
        "def evaluate_smiles(smiles_list, expert_smiles, training_smiles):\n",
        "  valid_smiles = [s for s in smiles_list if get_mol(s) is not None]\n",
        "  prepared_dataset = prepare_dataset(set(valid_smiles))\n",
        "  data_loader = DataLoader(prepared_dataset, batch_size=128, shuffle=False)\n",
        "  consistent_actives, consistent_inactives = get_consistent_molecules(model, data_loader)\n",
        "  #print(\"Consistently Top Active SMILES:\", consistent_actives)\n",
        "  print(\"Nr of consistently active SMILES: \", len(consistent_actives))\n",
        "  #print(\"Consistently Top Inactive SMILES:\", consistent_inactives)\n",
        "  print(\"Nr of consistently inactive SMILES: \", len(consistent_inactives))\n",
        "  fpgen = AllChem.GetRDKitFPGenerator()\n",
        "  generated_mols = [get_mol(smiles) for smiles in smiles_list]\n",
        "  expert_mols = [get_mol(smiles) for smiles in expert_smiles]\n",
        "  validity = sum([1 if mol is not None else 0 for mol in generated_mols]) / len(generated_mols)\n",
        "  generated_mols = [mol for mol in generated_mols if mol is not None]\n",
        "  expert_mols = [mol for mol in expert_mols if mol is not None]\n",
        "  print(\"Validity: \", validity)\n",
        "  unique_mols = len(set(smiles_list)) / len(smiles_list)\n",
        "  print(\"Uniqueness: \", unique_mols)\n",
        "  novel_mols = len(set(smiles_list) - set(expert_smiles) - set(training_smiles)) / len(smiles_list)\n",
        "  print(\"Novelty: \", novel_mols)\n",
        "  max_tanimoto_sims = []\n",
        "  for gm in generated_mols:\n",
        "      gm_fp = AllChem.GetMorganFingerprintAsBitVect(gm, radius=2)  # Using Morgan fingerprints\n",
        "      sim_scores = [TanimotoSimilarity(gm_fp, AllChem.GetMorganFingerprintAsBitVect(mol, radius=2)) for mol in expert_mols]\n",
        "      max_tanimoto_sims.append(max(sim_scores))\n",
        "  average_max_tanimoto_similarity = sum(max_tanimoto_sims) / len(max_tanimoto_sims)\n",
        "  print(\"Average max Tanimoto similarity to experts: \", average_max_tanimoto_similarity)\n",
        "  print(\"Best Tanimoto similarity to experts: \", max(max_tanimoto_sims))\n",
        "  sas_scores = [sascorer.calculateScore(mol) for mol in generated_mols if mol is not None]\n",
        "  average_sas_score = sum(sas_scores) / len(sas_scores)\n",
        "  print(\"Average synthesisability: \", average_sas_score)\n",
        "  qed_scores = [QED.qed(mol) for mol in generated_mols if mol is not None]\n",
        "  average_qed_score = sum(qed_scores) / len(qed_scores)\n",
        "  print(\"Average QED: \", average_qed_score)\n",
        "  return len(consistent_actives), len(consistent_inactives), validity, unique_mols, novel_mols, average_max_tanimoto_similarity, max(max_tanimoto_sims), average_sas_score, average_qed_score"
      ]
    },
    {
      "cell_type": "code",
      "execution_count": null,
      "metadata": {
        "id": "s4Eeub33y8vR"
      },
      "outputs": [],
      "source": [
        "# Evaluate for a specific list of sampled SMILES\n",
        "def set_and_evaluate(model_name, agent_type):\n",
        "  vae_model = model_name\n",
        "  agent = agent_type\n",
        "  df = pd.read_csv('./data/sampled_data/'+vae_model+'/'+agent+'/40000_all.csv')\n",
        "  smiles_list = df['0']\n",
        "  experts = pd.read_csv('./data/canonized/esr1.csv')\n",
        "  expert_smiles = experts['SMILES'].tolist()\n",
        "  if \"biased\" in vae_model:\n",
        "    training_df = pd.read_csv('./data/canonized/moses_biased_train_50k.csv')\n",
        "  else:\n",
        "    training_df = pd.read_csv('./data/canonized/moses_train_50k.csv')\n",
        "  training_smiles = training_df['SMILES'].tolist()\n",
        "  return evaluate_smiles(smiles_list, expert_smiles, training_smiles)"
      ]
    },
    {
      "cell_type": "code",
      "execution_count": null,
      "metadata": {
        "id": "KemcQ-Gay_cq"
      },
      "outputs": [],
      "source": [
        "column_names = [\"Nr Active\", \"Nr Inactive\", \"Validity\", \"Uniqueness\",\n",
        "                \"Novelty\", \"Avg Max Tanimoto Sim\", \"Best Tanimoto Sim\",\n",
        "                \"Avg SA\", \"Avg QED\"]\n",
        "results_df = df = pd.DataFrame(columns=column_names)"
      ]
    },
    {
      "cell_type": "code",
      "execution_count": null,
      "metadata": {
        "colab": {
          "base_uri": "https://localhost:8080/"
        },
        "id": "GRlIyYwRzBGQ",
        "outputId": "c729ca7c-2943-4f19-9f8b-54097d72b72b"
      },
      "outputs": [
        {
          "output_type": "stream",
          "name": "stdout",
          "text": [
            "Embedding failed for molecule with SMILES: [H]c1c([H])c([H])c(C([H])([H])C2([H])C(=O)Oc3c([H])c([H])c(N([H])[H])c2c3[H])c([H])c1[H]\n",
            "Nr of consistently active SMILES:  163\n",
            "Nr of consistently inactive SMILES:  367\n",
            "Validity:  0.896\n",
            "Uniqueness:  0.947\n",
            "Novelty:  0.946\n",
            "Average max Tanimoto similarity to experts:  0.24610619399918301\n",
            "Best Tanimoto similarity to experts:  0.5116279069767442\n",
            "Average synthesisability:  2.0433204159557885\n",
            "Average QED:  0.7869646616578859\n"
          ]
        },
        {
          "output_type": "stream",
          "name": "stderr",
          "text": [
            "<ipython-input-23-7afa43112d70>:2: FutureWarning: The frame.append method is deprecated and will be removed from pandas in a future version. Use pandas.concat instead.\n",
            "  results_df = results_df.append(pd.DataFrame([data_dict], index=[\"Random CVAE\"]))\n"
          ]
        },
        {
          "output_type": "stream",
          "name": "stdout",
          "text": [
            "Nr of consistently active SMILES:  166\n",
            "Nr of consistently inactive SMILES:  350\n",
            "Validity:  0.858\n",
            "Uniqueness:  0.92\n",
            "Novelty:  0.917\n",
            "Average max Tanimoto similarity to experts:  0.22633502128829758\n",
            "Best Tanimoto similarity to experts:  0.3815789473684211\n",
            "Average synthesisability:  2.448251629455924\n",
            "Average QED:  0.8463012953378274\n"
          ]
        },
        {
          "output_type": "stream",
          "name": "stderr",
          "text": [
            "<ipython-input-23-7afa43112d70>:5: FutureWarning: The frame.append method is deprecated and will be removed from pandas in a future version. Use pandas.concat instead.\n",
            "  results_df = results_df.append(pd.DataFrame([data_dict], index=[\"Biased CVAE\"]))\n"
          ]
        },
        {
          "output_type": "stream",
          "name": "stdout",
          "text": [
            "Nr of consistently active SMILES:  214\n",
            "Nr of consistently inactive SMILES:  300\n",
            "Validity:  0.888\n",
            "Uniqueness:  0.884\n",
            "Novelty:  0.882\n",
            "Average max Tanimoto similarity to experts:  0.2683947935842502\n",
            "Best Tanimoto similarity to experts:  0.6153846153846154\n",
            "Average synthesisability:  2.0184120249379682\n",
            "Average QED:  0.8710805765841967\n"
          ]
        },
        {
          "output_type": "stream",
          "name": "stderr",
          "text": [
            "<ipython-input-23-7afa43112d70>:8: FutureWarning: The frame.append method is deprecated and will be removed from pandas in a future version. Use pandas.concat instead.\n",
            "  results_df = results_df.append(pd.DataFrame([data_dict], index=[\"Random VAE\"]))\n"
          ]
        },
        {
          "output_type": "stream",
          "name": "stdout",
          "text": [
            "Embedding failed for molecule with SMILES: [H]c1c([H])c([H])c(C([H])([H])C([H])([H])[H])c(N2c3c([H])c([H])c(c([H])c3C([H])([H])OC([H])([H])[H])S2(=O)=O)c1[H]\n",
            "Nr of consistently active SMILES:  253\n",
            "Nr of consistently inactive SMILES:  309\n",
            "Validity:  0.899\n",
            "Uniqueness:  0.968\n",
            "Novelty:  0.967\n",
            "Average max Tanimoto similarity to experts:  0.2332840770615534\n",
            "Best Tanimoto similarity to experts:  0.43548387096774194\n",
            "Average synthesisability:  2.1248163663330843\n",
            "Average QED:  0.8291545493273829\n"
          ]
        },
        {
          "output_type": "stream",
          "name": "stderr",
          "text": [
            "<ipython-input-23-7afa43112d70>:11: FutureWarning: The frame.append method is deprecated and will be removed from pandas in a future version. Use pandas.concat instead.\n",
            "  results_df = results_df.append(pd.DataFrame([data_dict], index=[\"Biased VAE\"]))\n"
          ]
        }
      ],
      "source": [
        "data_dict = {col: val for col, val in zip(results_df.columns, set_and_evaluate(\"009_random_cvae_rnn_50k\", \"IL4\"))}\n",
        "results_df = results_df.append(pd.DataFrame([data_dict], index=[\"Random CVAE\"]))\n",
        "\n",
        "data_dict = {col: val for col, val in zip(results_df.columns, set_and_evaluate(\"010_biased_cvae_rnn_50k\", \"IL4\"))}\n",
        "results_df = results_df.append(pd.DataFrame([data_dict], index=[\"Biased CVAE\"]))\n",
        "\n",
        "data_dict = {col: val for col, val in zip(results_df.columns, set_and_evaluate(\"011_random_vae_rnn_50k\", \"IL4\"))}\n",
        "results_df = results_df.append(pd.DataFrame([data_dict], index=[\"Random VAE\"]))\n",
        "\n",
        "data_dict = {col: val for col, val in zip(results_df.columns, set_and_evaluate(\"012_biased_vae_rnn_50k\", \"IL4\"))}\n",
        "results_df = results_df.append(pd.DataFrame([data_dict], index=[\"Biased VAE\"]))"
      ]
    },
    {
      "cell_type": "code",
      "execution_count": null,
      "metadata": {
        "colab": {
          "base_uri": "https://localhost:8080/",
          "height": 343
        },
        "id": "UoypR494z9Px",
        "outputId": "bd4546ec-3cbd-4d62-8464-0c1458b2f885"
      },
      "outputs": [
        {
          "output_type": "execute_result",
          "data": {
            "text/plain": [
              "            Nr Active Nr Inactive  Validity  Uniqueness  Novelty  \\\n",
              "Random CVAE       163         367     0.896       0.947    0.946   \n",
              "Biased CVAE       166         350     0.858       0.920    0.917   \n",
              "Random VAE        214         300     0.888       0.884    0.882   \n",
              "Biased VAE        253         309     0.899       0.968    0.967   \n",
              "\n",
              "             Avg Max Tanimoto Sim  Best Tanimoto Sim    Avg SA   Avg QED  \n",
              "Random CVAE              0.246106           0.511628  2.043320  0.786965  \n",
              "Biased CVAE              0.226335           0.381579  2.448252  0.846301  \n",
              "Random VAE               0.268395           0.615385  2.018412  0.871081  \n",
              "Biased VAE               0.233284           0.435484  2.124816  0.829155  "
            ],
            "text/html": [
              "\n",
              "\n",
              "  <div id=\"df-f354618a-05ac-4360-8e3f-b08b47f7041a\">\n",
              "    <div class=\"colab-df-container\">\n",
              "      <div>\n",
              "<style scoped>\n",
              "    .dataframe tbody tr th:only-of-type {\n",
              "        vertical-align: middle;\n",
              "    }\n",
              "\n",
              "    .dataframe tbody tr th {\n",
              "        vertical-align: top;\n",
              "    }\n",
              "\n",
              "    .dataframe thead th {\n",
              "        text-align: right;\n",
              "    }\n",
              "</style>\n",
              "<table border=\"1\" class=\"dataframe\">\n",
              "  <thead>\n",
              "    <tr style=\"text-align: right;\">\n",
              "      <th></th>\n",
              "      <th>Nr Active</th>\n",
              "      <th>Nr Inactive</th>\n",
              "      <th>Validity</th>\n",
              "      <th>Uniqueness</th>\n",
              "      <th>Novelty</th>\n",
              "      <th>Avg Max Tanimoto Sim</th>\n",
              "      <th>Best Tanimoto Sim</th>\n",
              "      <th>Avg SA</th>\n",
              "      <th>Avg QED</th>\n",
              "    </tr>\n",
              "  </thead>\n",
              "  <tbody>\n",
              "    <tr>\n",
              "      <th>Random CVAE</th>\n",
              "      <td>163</td>\n",
              "      <td>367</td>\n",
              "      <td>0.896</td>\n",
              "      <td>0.947</td>\n",
              "      <td>0.946</td>\n",
              "      <td>0.246106</td>\n",
              "      <td>0.511628</td>\n",
              "      <td>2.043320</td>\n",
              "      <td>0.786965</td>\n",
              "    </tr>\n",
              "    <tr>\n",
              "      <th>Biased CVAE</th>\n",
              "      <td>166</td>\n",
              "      <td>350</td>\n",
              "      <td>0.858</td>\n",
              "      <td>0.920</td>\n",
              "      <td>0.917</td>\n",
              "      <td>0.226335</td>\n",
              "      <td>0.381579</td>\n",
              "      <td>2.448252</td>\n",
              "      <td>0.846301</td>\n",
              "    </tr>\n",
              "    <tr>\n",
              "      <th>Random VAE</th>\n",
              "      <td>214</td>\n",
              "      <td>300</td>\n",
              "      <td>0.888</td>\n",
              "      <td>0.884</td>\n",
              "      <td>0.882</td>\n",
              "      <td>0.268395</td>\n",
              "      <td>0.615385</td>\n",
              "      <td>2.018412</td>\n",
              "      <td>0.871081</td>\n",
              "    </tr>\n",
              "    <tr>\n",
              "      <th>Biased VAE</th>\n",
              "      <td>253</td>\n",
              "      <td>309</td>\n",
              "      <td>0.899</td>\n",
              "      <td>0.968</td>\n",
              "      <td>0.967</td>\n",
              "      <td>0.233284</td>\n",
              "      <td>0.435484</td>\n",
              "      <td>2.124816</td>\n",
              "      <td>0.829155</td>\n",
              "    </tr>\n",
              "  </tbody>\n",
              "</table>\n",
              "</div>\n",
              "      <button class=\"colab-df-convert\" onclick=\"convertToInteractive('df-f354618a-05ac-4360-8e3f-b08b47f7041a')\"\n",
              "              title=\"Convert this dataframe to an interactive table.\"\n",
              "              style=\"display:none;\">\n",
              "\n",
              "  <svg xmlns=\"http://www.w3.org/2000/svg\" height=\"24px\"viewBox=\"0 0 24 24\"\n",
              "       width=\"24px\">\n",
              "    <path d=\"M0 0h24v24H0V0z\" fill=\"none\"/>\n",
              "    <path d=\"M18.56 5.44l.94 2.06.94-2.06 2.06-.94-2.06-.94-.94-2.06-.94 2.06-2.06.94zm-11 1L8.5 8.5l.94-2.06 2.06-.94-2.06-.94L8.5 2.5l-.94 2.06-2.06.94zm10 10l.94 2.06.94-2.06 2.06-.94-2.06-.94-.94-2.06-.94 2.06-2.06.94z\"/><path d=\"M17.41 7.96l-1.37-1.37c-.4-.4-.92-.59-1.43-.59-.52 0-1.04.2-1.43.59L10.3 9.45l-7.72 7.72c-.78.78-.78 2.05 0 2.83L4 21.41c.39.39.9.59 1.41.59.51 0 1.02-.2 1.41-.59l7.78-7.78 2.81-2.81c.8-.78.8-2.07 0-2.86zM5.41 20L4 18.59l7.72-7.72 1.47 1.35L5.41 20z\"/>\n",
              "  </svg>\n",
              "      </button>\n",
              "\n",
              "\n",
              "\n",
              "    <div id=\"df-050b9730-23e0-41d3-8f70-a5e86c4e194e\">\n",
              "      <button class=\"colab-df-quickchart\" onclick=\"quickchart('df-050b9730-23e0-41d3-8f70-a5e86c4e194e')\"\n",
              "              title=\"Suggest charts.\"\n",
              "              style=\"display:none;\">\n",
              "\n",
              "<svg xmlns=\"http://www.w3.org/2000/svg\" height=\"24px\"viewBox=\"0 0 24 24\"\n",
              "     width=\"24px\">\n",
              "    <g>\n",
              "        <path d=\"M19 3H5c-1.1 0-2 .9-2 2v14c0 1.1.9 2 2 2h14c1.1 0 2-.9 2-2V5c0-1.1-.9-2-2-2zM9 17H7v-7h2v7zm4 0h-2V7h2v10zm4 0h-2v-4h2v4z\"/>\n",
              "    </g>\n",
              "</svg>\n",
              "      </button>\n",
              "    </div>\n",
              "\n",
              "<style>\n",
              "  .colab-df-quickchart {\n",
              "    background-color: #E8F0FE;\n",
              "    border: none;\n",
              "    border-radius: 50%;\n",
              "    cursor: pointer;\n",
              "    display: none;\n",
              "    fill: #1967D2;\n",
              "    height: 32px;\n",
              "    padding: 0 0 0 0;\n",
              "    width: 32px;\n",
              "  }\n",
              "\n",
              "  .colab-df-quickchart:hover {\n",
              "    background-color: #E2EBFA;\n",
              "    box-shadow: 0px 1px 2px rgba(60, 64, 67, 0.3), 0px 1px 3px 1px rgba(60, 64, 67, 0.15);\n",
              "    fill: #174EA6;\n",
              "  }\n",
              "\n",
              "  [theme=dark] .colab-df-quickchart {\n",
              "    background-color: #3B4455;\n",
              "    fill: #D2E3FC;\n",
              "  }\n",
              "\n",
              "  [theme=dark] .colab-df-quickchart:hover {\n",
              "    background-color: #434B5C;\n",
              "    box-shadow: 0px 1px 3px 1px rgba(0, 0, 0, 0.15);\n",
              "    filter: drop-shadow(0px 1px 2px rgba(0, 0, 0, 0.3));\n",
              "    fill: #FFFFFF;\n",
              "  }\n",
              "</style>\n",
              "\n",
              "    <script>\n",
              "      async function quickchart(key) {\n",
              "        const containerElement = document.querySelector('#' + key);\n",
              "        const charts = await google.colab.kernel.invokeFunction(\n",
              "            'suggestCharts', [key], {});\n",
              "      }\n",
              "    </script>\n",
              "\n",
              "      <script>\n",
              "\n",
              "function displayQuickchartButton(domScope) {\n",
              "  let quickchartButtonEl =\n",
              "    domScope.querySelector('#df-050b9730-23e0-41d3-8f70-a5e86c4e194e button.colab-df-quickchart');\n",
              "  quickchartButtonEl.style.display =\n",
              "    google.colab.kernel.accessAllowed ? 'block' : 'none';\n",
              "}\n",
              "\n",
              "        displayQuickchartButton(document);\n",
              "      </script>\n",
              "      <style>\n",
              "    .colab-df-container {\n",
              "      display:flex;\n",
              "      flex-wrap:wrap;\n",
              "      gap: 12px;\n",
              "    }\n",
              "\n",
              "    .colab-df-convert {\n",
              "      background-color: #E8F0FE;\n",
              "      border: none;\n",
              "      border-radius: 50%;\n",
              "      cursor: pointer;\n",
              "      display: none;\n",
              "      fill: #1967D2;\n",
              "      height: 32px;\n",
              "      padding: 0 0 0 0;\n",
              "      width: 32px;\n",
              "    }\n",
              "\n",
              "    .colab-df-convert:hover {\n",
              "      background-color: #E2EBFA;\n",
              "      box-shadow: 0px 1px 2px rgba(60, 64, 67, 0.3), 0px 1px 3px 1px rgba(60, 64, 67, 0.15);\n",
              "      fill: #174EA6;\n",
              "    }\n",
              "\n",
              "    [theme=dark] .colab-df-convert {\n",
              "      background-color: #3B4455;\n",
              "      fill: #D2E3FC;\n",
              "    }\n",
              "\n",
              "    [theme=dark] .colab-df-convert:hover {\n",
              "      background-color: #434B5C;\n",
              "      box-shadow: 0px 1px 3px 1px rgba(0, 0, 0, 0.15);\n",
              "      filter: drop-shadow(0px 1px 2px rgba(0, 0, 0, 0.3));\n",
              "      fill: #FFFFFF;\n",
              "    }\n",
              "  </style>\n",
              "\n",
              "      <script>\n",
              "        const buttonEl =\n",
              "          document.querySelector('#df-f354618a-05ac-4360-8e3f-b08b47f7041a button.colab-df-convert');\n",
              "        buttonEl.style.display =\n",
              "          google.colab.kernel.accessAllowed ? 'block' : 'none';\n",
              "\n",
              "        async function convertToInteractive(key) {\n",
              "          const element = document.querySelector('#df-f354618a-05ac-4360-8e3f-b08b47f7041a');\n",
              "          const dataTable =\n",
              "            await google.colab.kernel.invokeFunction('convertToInteractive',\n",
              "                                                     [key], {});\n",
              "          if (!dataTable) return;\n",
              "\n",
              "          const docLinkHtml = 'Like what you see? Visit the ' +\n",
              "            '<a target=\"_blank\" href=https://colab.research.google.com/notebooks/data_table.ipynb>data table notebook</a>'\n",
              "            + ' to learn more about interactive tables.';\n",
              "          element.innerHTML = '';\n",
              "          dataTable['output_type'] = 'display_data';\n",
              "          await google.colab.output.renderOutput(dataTable, element);\n",
              "          const docLink = document.createElement('div');\n",
              "          docLink.innerHTML = docLinkHtml;\n",
              "          element.appendChild(docLink);\n",
              "        }\n",
              "      </script>\n",
              "    </div>\n",
              "  </div>\n"
            ]
          },
          "metadata": {},
          "execution_count": 24
        }
      ],
      "source": [
        "results_df"
      ]
    },
    {
      "cell_type": "code",
      "execution_count": null,
      "metadata": {
        "id": "IuLPKSq1z9_I"
      },
      "outputs": [],
      "source": [
        "results_df.to_csv('./models/metrics/IL4/eval_metrics.csv')"
      ]
    },
    {
      "cell_type": "code",
      "execution_count": null,
      "metadata": {
        "id": "-N0Z3zmM-pH5"
      },
      "outputs": [],
      "source": []
    }
  ],
  "metadata": {
    "accelerator": "GPU",
    "colab": {
      "provenance": [],
      "gpuType": "T4"
    },
    "kernelspec": {
      "display_name": "Python 3",
      "name": "python3"
    },
    "language_info": {
      "name": "python"
    }
  },
  "nbformat": 4,
  "nbformat_minor": 0
}