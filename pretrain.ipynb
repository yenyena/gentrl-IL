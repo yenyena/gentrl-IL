{
  "nbformat": 4,
  "nbformat_minor": 0,
  "metadata": {
    "colab": {
      "provenance": []
    },
    "kernelspec": {
      "name": "python3",
      "display_name": "Python 3"
    },
    "language_info": {
      "name": "python"
    }
  },
  "cells": [
    {
      "cell_type": "code",
      "execution_count": null,
      "metadata": {
        "id": "znBtYfjJ-FJ_"
      },
      "outputs": [],
      "source": [
        "!pip3 install torch --extra-index-url https://download.pytorch.org/whl/cu116\n",
        "!pip3 install rdkit\n",
        "!pip3 install git+https://github.com/molecularsets/moses.git"
      ]
    },
    {
      "cell_type": "code",
      "source": [
        "import torch\n",
        "import pandas as pd\n",
        "import os\n",
        "import sys\n",
        "import time\n",
        "from datetime import timedelta\n",
        "from importlib import reload\n",
        "torch.cuda.set_device(0)"
      ],
      "metadata": {
        "id": "d5nTnZOZ-MJZ"
      },
      "execution_count": null,
      "outputs": []
    },
    {
      "cell_type": "code",
      "source": [
        "device = torch.device('cuda' if torch.cuda.is_available() else 'cpu')\n",
        "print(device)"
      ],
      "metadata": {
        "id": "kUIbvrel-ML9"
      },
      "execution_count": null,
      "outputs": []
    },
    {
      "cell_type": "code",
      "source": [
        "from google.colab import drive\n",
        "drive.mount('/content/gdrive')"
      ],
      "metadata": {
        "id": "pJm7kavG-MOl"
      },
      "execution_count": null,
      "outputs": []
    },
    {
      "cell_type": "code",
      "source": [
        "sys.path.insert(1, \"/content/gdrive/My Drive/gentrl_v2\")\n",
        "import gentrl_v2"
      ],
      "metadata": {
        "id": "EtDqljYQ-MRc"
      },
      "execution_count": null,
      "outputs": []
    },
    {
      "cell_type": "code",
      "source": [
        "os.chdir('/content/gdrive/My Drive/gentrl_v2')"
      ],
      "metadata": {
        "id": "rkQUiQR4-g2l"
      },
      "execution_count": null,
      "outputs": []
    },
    {
      "cell_type": "code",
      "source": [
        "LATENT_SIZE = 8\n",
        "LATENT_DESC = LATENT_SIZE * [('c', 10)]\n",
        "FEATURE_DESC = [('c', 10), ('c', 10), ('d', 3), ('c', 10)]\n",
        "BETA = 0.001\n",
        "GAMMA = 0.25\n",
        "# vae or cvae, changes between the VAE with structured prior and conditional VAE\n",
        "VAE='vae'\n",
        "\n",
        "# one experiment for each combination of data sampling method and VAE loss function:\n",
        "# 009_random_cvae_rnn_50k for random data and CVAE\n",
        "# 010_biased_cvae_rnn_50k for biased data and CVAE\n",
        "# 011_random_vae_rnn_50k for random data and VAE with structured prior\n",
        "# 012_biased_vae_rnn_50k for biased data and VAE with structured prior\n",
        "EXPERIMENT_NAME = \"012_biased_vae_rnn_50k\"\n",
        "BATCH_SIZE = 128\n",
        "EPOCHS = 100"
      ],
      "metadata": {
        "id": "wyLp34Aw-mra"
      },
      "execution_count": null,
      "outputs": []
    },
    {
      "cell_type": "code",
      "source": [
        "enc = gentrl_v2.RNNEncoder(latent_size=LATENT_SIZE, bidirectional=True, hidden_size=128)\n",
        "dec = gentrl_v2.RNNDecoder(latent_input_size=LATENT_SIZE)\n",
        "model = gentrl_v2.GENTRL(enc, dec, LATENT_DESC, FEATURE_DESC, beta=BETA, gamma=GAMMA, vae=VAE, state_dim=LATENT_SIZE, action_dim=8)\n",
        "model = model.cuda();"
      ],
      "metadata": {
        "id": "gwf57EVJ-mtn"
      },
      "execution_count": null,
      "outputs": []
    },
    {
      "cell_type": "code",
      "source": [
        "reinit_epochs = [1, 2, 5, 25] # specify epochs to reset weights"
      ],
      "metadata": {
        "id": "0n0QII41_Kcv"
      },
      "execution_count": null,
      "outputs": []
    },
    {
      "cell_type": "code",
      "source": [
        "# change the path to load desired data - random or biased\n",
        "md_train = gentrl_v2.MolecularDataset(\n",
        "    {'path':'data/canonized/moses_biased_train_50k.csv',\n",
        "     'smiles': 'SMILES',\n",
        "     'prob': 1,\n",
        "     'logP' : 'logP',\n",
        "     'SA': 'SA',\n",
        "     'nr_rings': 'nr_rings',\n",
        "     'QED': 'QED',\n",
        "    },\n",
        "    props=['logP', 'SA', 'nr_rings', 'QED'])\n",
        "\n",
        "md_val = gentrl_v2.MolecularDataset(\n",
        "    {'path':'data/canonized/moses_biased_val_5k.csv',\n",
        "     'smiles': 'SMILES',\n",
        "     'prob': 1,\n",
        "     'logP' : 'logP',\n",
        "     'SA': 'SA',\n",
        "     'nr_rings': 'nr_rings',\n",
        "     'QED': 'QED',\n",
        "    },\n",
        "    props=['logP', 'SA', 'nr_rings', 'QED'])"
      ],
      "metadata": {
        "id": "kJQRE9SP-nO7"
      },
      "execution_count": null,
      "outputs": []
    },
    {
      "cell_type": "code",
      "source": [
        "from torch.utils.data import DataLoader\n",
        "train_loader = DataLoader(md_train, batch_size=BATCH_SIZE, shuffle=True, num_workers=0, drop_last=False)\n",
        "val_loader = DataLoader(md_val, batch_size=BATCH_SIZE, shuffle=True, num_workers=0, drop_last=False)"
      ],
      "metadata": {
        "id": "YTLJiexs-nRb"
      },
      "execution_count": null,
      "outputs": []
    },
    {
      "cell_type": "code",
      "source": [
        "# run four times with corresponding random/biased data and vae/cvae setup to create 4 different latent spaces\n",
        "model.train_as_vaelp(train_loader=train_loader,\n",
        "                     train_name=EXPERIMENT_NAME,\n",
        "                     val_loader=val_loader,\n",
        "                     num_epochs=EPOCHS, lr=1e-3,\n",
        "                     reinit_epochs=reinit_epochs,\n",
        "                     start_epoch=restart_epoch)"
      ],
      "metadata": {
        "id": "fwAQXVFB-nTp"
      },
      "execution_count": null,
      "outputs": []
    }
  ]
}