{
  "nbformat": 4,
  "nbformat_minor": 0,
  "metadata": {
    "colab": {
      "provenance": [],
      "gpuType": "T4",
      "machine_shape": "hm"
    },
    "kernelspec": {
      "name": "python3",
      "display_name": "Python 3"
    },
    "language_info": {
      "name": "python"
    },
    "accelerator": "GPU"
  },
  "cells": [
    {
      "cell_type": "code",
      "source": [
        "%%capture\n",
        "!pip3 install torch torchvision --extra-index-url https://download.pytorch.org/whl/cu116\n",
        "!pip3 install rdkit\n",
        "!pip3 install git+https://github.com/molecularsets/moses.git"
      ],
      "metadata": {
        "id": "wIr5gjWQXxtd"
      },
      "execution_count": null,
      "outputs": []
    },
    {
      "cell_type": "code",
      "execution_count": null,
      "metadata": {
        "id": "JQZ87XW0XptZ",
        "colab": {
          "base_uri": "https://localhost:8080/"
        },
        "outputId": "fa90b087-b7eb-4476-f065-5d897f3d6dbb"
      },
      "outputs": [
        {
          "output_type": "stream",
          "name": "stderr",
          "text": [
            "/usr/local/lib/python3.10/dist-packages/moses/metrics/utils.py:24: FutureWarning: The frame.append method is deprecated and will be removed from pandas in a future version. Use pandas.concat instead.\n",
            "  _mcf.append(_pains, sort=True)['smarts'].values]\n"
          ]
        }
      ],
      "source": [
        "import pandas as pd\n",
        "import numpy as np\n",
        "import torch\n",
        "torch.cuda.set_device(0)\n",
        "import sys\n",
        "import os\n",
        "import tarfile\n",
        "import gzip\n",
        "import shutil\n",
        "from rdkit import Chem\n",
        "from rdkit.Chem import AllChem\n",
        "import torch.nn as nn\n",
        "import torch.optim as optim\n",
        "from rdkit.Chem import Draw, inchi\n",
        "from rdkit.Chem.Draw import DrawingOptions\n",
        "from torch.utils.data import DataLoader, TensorDataset, Dataset\n",
        "from torchvision import transforms\n",
        "from sklearn.model_selection import train_test_split\n",
        "import matplotlib.pyplot as plt\n",
        "import random\n",
        "from rdkit import Chem\n",
        "from rdkit.Chem import AllChem, Descriptors, QED, RDConfig\n",
        "from rdkit.DataStructs import TanimotoSimilarity\n",
        "import os\n",
        "import sys\n",
        "sys.path.append(os.path.join(RDConfig.RDContribDir, 'SA_Score'))\n",
        "import sascorer\n",
        "from moses.utils import disable_rdkit_log\n",
        "from moses.metrics.utils import get_mol\n",
        "disable_rdkit_log()"
      ]
    },
    {
      "cell_type": "code",
      "source": [
        "device = torch.device('cuda' if torch.cuda.is_available() else 'cpu')\n",
        "print(device)"
      ],
      "metadata": {
        "colab": {
          "base_uri": "https://localhost:8080/"
        },
        "id": "06xSah-scExV",
        "outputId": "4e8d18ef-724d-4e74-c2f2-ce86dd442e7e"
      },
      "execution_count": null,
      "outputs": [
        {
          "output_type": "stream",
          "name": "stdout",
          "text": [
            "cuda\n"
          ]
        }
      ]
    },
    {
      "cell_type": "code",
      "source": [
        "from google.colab import drive\n",
        "drive.mount('/content/gdrive')"
      ],
      "metadata": {
        "colab": {
          "base_uri": "https://localhost:8080/"
        },
        "id": "Ndp0z0d6X9Sh",
        "outputId": "d38a3099-2459-4224-ce88-d587b51641e6"
      },
      "execution_count": null,
      "outputs": [
        {
          "output_type": "stream",
          "name": "stdout",
          "text": [
            "Mounted at /content/gdrive\n"
          ]
        }
      ]
    },
    {
      "cell_type": "code",
      "source": [
        "os.chdir('/content/gdrive/My Drive/GENTRL-private')"
      ],
      "metadata": {
        "id": "xJxJA6DNX9md"
      },
      "execution_count": null,
      "outputs": []
    },
    {
      "cell_type": "code",
      "source": [
        "expert_df = pd.read_csv(\"data/canonized/esr1.csv\")"
      ],
      "metadata": {
        "id": "pS34sblLX_ux"
      },
      "execution_count": null,
      "outputs": []
    },
    {
      "cell_type": "code",
      "source": [
        "suppl = Chem.SDMolSupplier('data/expert_data/esr1/decoys_final.sdf')\n",
        "smiles = [Chem.MolToSmiles(x) for x in suppl]"
      ],
      "metadata": {
        "id": "3eIKJqD-ajmD"
      },
      "execution_count": null,
      "outputs": []
    },
    {
      "cell_type": "code",
      "source": [
        "def canonicalize_smiles_without_stereo(smis):\n",
        "    \"\"\"Convert a list of SMILES strings to their canonical forms without stereochemistry.\"\"\"\n",
        "    cans = []\n",
        "    for smi in smis:\n",
        "        mol = Chem.MolFromSmiles(smi)\n",
        "        if mol:\n",
        "            Chem.rdmolops.RemoveStereochemistry(mol)\n",
        "            cans.append(Chem.MolToSmiles(mol, isomericSmiles=False))\n",
        "    return cans\n",
        "smiles = canonicalize_smiles_without_stereo(smiles)"
      ],
      "metadata": {
        "id": "kT617MNVaLTH"
      },
      "execution_count": null,
      "outputs": []
    },
    {
      "cell_type": "code",
      "source": [
        "\n",
        "def get_inchikey(smiles):\n",
        "    \"\"\"Get molecule InChIKey from SMILES.\"\"\"\n",
        "    mol = Chem.MolFromSmiles(smiles)\n",
        "    if mol:\n",
        "        return inchi.MolToInchiKey(mol)\n",
        "    else:\n",
        "        return None\n",
        "\n",
        "def discard_isomers(smiles_list):\n",
        "    \"\"\"Discard stereoisomers from a list of SMILES.\"\"\"\n",
        "    inchikeys = [get_inchikey(smi) for smi in smiles_list]\n",
        "\n",
        "    # Extract the first part of the InChIKey (before the first dash) to represent molecular connectivity\n",
        "    inchikey_parts = [key.split(\"-\")[0] if key else None for key in inchikeys]\n",
        "\n",
        "    # Create a dictionary with the first part of the InChIKey as the key and the SMILES as the values\n",
        "    inchikey_to_smiles = {}\n",
        "    for ikey, smi in zip(inchikey_parts, smiles_list):\n",
        "        if ikey:\n",
        "            if ikey in inchikey_to_smiles:\n",
        "                inchikey_to_smiles[ikey].append(smi)\n",
        "            else:\n",
        "                inchikey_to_smiles[ikey] = [smi]\n",
        "\n",
        "    # From each group of stereoisomers (with the same molecular connectivity), pick one randomly\n",
        "    retained_smiles = [random.choice(smiles) for smiles in inchikey_to_smiles.values()]\n",
        "\n",
        "    return retained_smiles\n",
        "\n",
        "smiles = discard_isomers(smiles)"
      ],
      "metadata": {
        "id": "yzcCelfFabK6"
      },
      "execution_count": null,
      "outputs": []
    },
    {
      "cell_type": "code",
      "source": [
        "decoys_df = pd.DataFrame(smiles, columns=['SMILES'])"
      ],
      "metadata": {
        "id": "7Ig1dxAFaoyc"
      },
      "execution_count": null,
      "outputs": []
    },
    {
      "cell_type": "code",
      "source": [
        "def generate_chemception_image(mol, dim=80):\n",
        "    # Initialize the image to be of size dim x dim with all zeros (vacuum)\n",
        "    image = np.zeros((dim, dim, 3))\n",
        "    mol = Chem.AddHs(mol)\n",
        "\n",
        "    # Get molecule coordinates after embedding\n",
        "    if AllChem.EmbedMolecule(mol, Chem.AllChem.ETKDG()) == -1:\n",
        "        # Embedding failed\n",
        "        print(\"Embedding failed for molecule with SMILES:\", Chem.MolToSmiles(mol))\n",
        "        return None\n",
        "\n",
        "    AllChem.EmbedMolecule(mol, AllChem.ETKDG())\n",
        "    conf = mol.GetConformer(0)\n",
        "\n",
        "    # Scale and translate coordinates to fit the image dimensions\n",
        "    xs = [conf.GetAtomPosition(i).x for i in range(mol.GetNumAtoms())]\n",
        "    ys = [conf.GetAtomPosition(i).y for i in range(mol.GetNumAtoms())]\n",
        "    x_min, x_max = min(xs), max(xs)\n",
        "    y_min, y_max = min(ys), max(ys)\n",
        "    x_range, y_range = x_max - x_min, y_max - y_min\n",
        "\n",
        "    scale = 0.95 * dim / max(x_range, y_range)  # Scale down by 95% to provide some buffer\n",
        "    x_trans, y_trans = (x_max + x_min)/2, (y_max + y_min)/2\n",
        "\n",
        "    # Assign values to the grid based on atomic properties\n",
        "    for i in range(mol.GetNumAtoms()):\n",
        "        x, y = conf.GetAtomPosition(i).x, conf.GetAtomPosition(i).y\n",
        "        x, y = int((x - x_trans) * scale + dim/2), int((y - y_trans) * scale + dim/2)\n",
        "\n",
        "        # Make sure coordinates are inside the image\n",
        "        x = max(0, min(dim-1, x))\n",
        "        y = max(0, min(dim-1, y))\n",
        "\n",
        "        # Atomic mass channel (channel 0)\n",
        "        atom = mol.GetAtomWithIdx(i)\n",
        "        image[y, x, 0] = atom.GetMass()\n",
        "\n",
        "    # Assign values based on bonds\n",
        "    for bond in mol.GetBonds():\n",
        "        start, end = bond.GetBeginAtomIdx(), bond.GetEndAtomIdx()\n",
        "        x_start, y_start = conf.GetAtomPosition(start).x, conf.GetAtomPosition(start).y\n",
        "        x_end, y_end = conf.GetAtomPosition(end).x, conf.GetAtomPosition(end).y\n",
        "\n",
        "        x_start, y_start = int((x_start - x_trans) * scale + dim/2), int((y_start - y_trans) * scale + dim/2)\n",
        "        x_end, y_end = int((x_end - x_trans) * scale + dim/2), int((y_end - y_trans) * scale + dim/2)\n",
        "\n",
        "        # Drawing a simple line between start and end (there are more efficient ways for anti-aliased lines, etc.)\n",
        "        dx, dy = x_end - x_start, y_end - y_start\n",
        "        dist = int(np.sqrt(dx*dx + dy*dy))\n",
        "        for i in range(dist):\n",
        "            x, y = x_start + i*dx/dist, y_start + i*dy/dist\n",
        "            if 0 <= x < dim and 0 <= y < dim:\n",
        "                image[int(y), int(x), 1] = 2  # Bond channel (channel 1)\n",
        "\n",
        "    return torch.tensor(image).permute(2, 0, 1)  # Channels first format\n"
      ],
      "metadata": {
        "id": "RC5OoY7HfWQu"
      },
      "execution_count": null,
      "outputs": []
    },
    {
      "cell_type": "code",
      "source": [
        "class MoleculeDataset(Dataset):\n",
        "    def __init__(self, tensors, smiles, labels):\n",
        "        self.tensors = tensors\n",
        "        self.smiles = smiles\n",
        "        self.labels = labels\n",
        "\n",
        "    def __len__(self):\n",
        "        return len(self.tensors)\n",
        "\n",
        "    def __getitem__(self, idx):\n",
        "        return self.tensors[idx], self.smiles[idx], self.labels[idx]"
      ],
      "metadata": {
        "id": "Yu8_R7doQ2uw"
      },
      "execution_count": null,
      "outputs": []
    },
    {
      "cell_type": "code",
      "source": [
        "num_actives = len(expert_df)\n",
        "balanced_decoys_df = decoys_df.sample(n=num_actives, random_state=42)\n",
        "expert_df['label'] = 1  # 1 for actives\n",
        "balanced_decoys_df['label'] = 0  # 0 for decoys\n",
        "combined_df = pd.concat([expert_df, balanced_decoys_df], axis=0).reset_index(drop=True)"
      ],
      "metadata": {
        "id": "omaQj-L8gRlp"
      },
      "execution_count": null,
      "outputs": []
    },
    {
      "cell_type": "code",
      "source": [
        "data_tensors = []\n",
        "successful_indices = []\n",
        "successful_smiles = []\n",
        "\n",
        "for idx, row in combined_df.iterrows():\n",
        "    smiles = row['SMILES']\n",
        "    mol = Chem.MolFromSmiles(smiles)\n",
        "    if mol:\n",
        "        image_tensor = generate_chemception_image(mol)\n",
        "        if image_tensor is not None:  # Ensure embedding was successful\n",
        "            data_tensors.append(image_tensor)\n",
        "            successful_indices.append(idx)\n",
        "            successful_smiles.append(smiles)"
      ],
      "metadata": {
        "colab": {
          "base_uri": "https://localhost:8080/"
        },
        "id": "f0WN8jMggU0b",
        "outputId": "3fc7c42e-d8b4-4bfb-f41e-b003b0beceae"
      },
      "execution_count": null,
      "outputs": [
        {
          "output_type": "stream",
          "name": "stdout",
          "text": [
            "Embedding failed for molecule with SMILES: [H]C1=C(C([H])([H])[H])c2c3c(c([H])c([H])c2N([H])C1(C([H])([H])[H])C([H])([H])[H])-c1c([H])c(F)c([H])c([H])c1OC3=C1SC([H])([H])C([H])([H])C([H])([H])S1\n"
          ]
        }
      ]
    },
    {
      "cell_type": "code",
      "source": [
        "data_tensors[0].shape"
      ],
      "metadata": {
        "colab": {
          "base_uri": "https://localhost:8080/"
        },
        "id": "fZho6JQJxcio",
        "outputId": "13dbc5fe-a548-4bfd-e72d-a6318aa02f6d"
      },
      "execution_count": null,
      "outputs": [
        {
          "output_type": "execute_result",
          "data": {
            "text/plain": [
              "torch.Size([3, 80, 80])"
            ]
          },
          "metadata": {},
          "execution_count": 15
        }
      ]
    },
    {
      "cell_type": "code",
      "source": [
        "data_tensor = torch.stack(data_tensors).float()\n",
        "successful_smiles = [combined_df.iloc[i]['SMILES'] for i in successful_indices]\n",
        "labels_array = combined_df['label'].iloc[successful_indices].values\n",
        "labels_tensor = torch.tensor(labels_array, dtype=torch.float32)"
      ],
      "metadata": {
        "id": "ToO-Q7OkwX2o"
      },
      "execution_count": null,
      "outputs": []
    },
    {
      "cell_type": "code",
      "source": [
        "def visualize_tensor_image(tensor_img, channel=None):\n",
        "    img = tensor_img.numpy()\n",
        "\n",
        "    # (height, width, channels)\n",
        "    if len(img.shape) == 3:\n",
        "        img = img.transpose((1, 2, 0))\n",
        "\n",
        "    # visualising a specific channel\n",
        "    if channel is not None:\n",
        "        assert len(img.shape) == 3, \"The image should have multiple channels to select one\"\n",
        "        img = img[:, :, channel]\n",
        "\n",
        "    plt.imshow(img)\n",
        "    plt.axis('off')\n",
        "    plt.show()\n",
        "\n",
        "# visualize the first image in the stacked tensor\n",
        "visualize_tensor_image(data_tensor[0])\n",
        "\n",
        "# visualize the first channel of the first image\n",
        "# visualize_tensor_image(data_tensor[0], channel=0)\n"
      ],
      "metadata": {
        "colab": {
          "base_uri": "https://localhost:8080/",
          "height": 444
        },
        "id": "hM5bz6ves6XB",
        "outputId": "87d6c2f7-7de5-4990-f8db-ff4acc16f203"
      },
      "execution_count": null,
      "outputs": [
        {
          "output_type": "stream",
          "name": "stderr",
          "text": [
            "WARNING:matplotlib.image:Clipping input data to the valid range for imshow with RGB data ([0..1] for floats or [0..255] for integers).\n"
          ]
        },
        {
          "output_type": "display_data",
          "data": {
            "text/plain": [
              "<Figure size 640x480 with 1 Axes>"
            ],
            "image/png": "[encoded data removed]"
          },
          "metadata": {}
        }
      ]
    },
    {
      "cell_type": "code",
      "source": [
        "assert len(data_tensor) == len(labels_tensor), \"Mismatch between data and labels\""
      ],
      "metadata": {
        "id": "Kpou8sc7vZ1m"
      },
      "execution_count": null,
      "outputs": []
    },
    {
      "cell_type": "code",
      "source": [
        "data_train, data_test, labels_train, labels_test, smiles_train, smiles_test = train_test_split(data_tensor, labels_tensor, successful_smiles, test_size=0.2, stratify=labels_tensor)"
      ],
      "metadata": {
        "id": "g1GzoXavdx3T"
      },
      "execution_count": null,
      "outputs": []
    },
    {
      "cell_type": "code",
      "source": [
        "train_dataset = MoleculeDataset(data_train, smiles_train, labels_train)\n",
        "test_dataset = MoleculeDataset(data_test, smiles_test, labels_test)"
      ],
      "metadata": {
        "id": "KnlkIIIcd3Hh"
      },
      "execution_count": null,
      "outputs": []
    },
    {
      "cell_type": "code",
      "source": [
        "train_loader = DataLoader(train_dataset, batch_size=128, shuffle=True)\n",
        "test_loader = DataLoader(test_dataset, batch_size=128, shuffle=True)"
      ],
      "metadata": {
        "id": "mBDxY9jGdXuw"
      },
      "execution_count": null,
      "outputs": []
    },
    {
      "cell_type": "code",
      "source": [
        "# Model definition\n",
        "class EnhancedCNN(nn.Module):\n",
        "    def __init__(self):\n",
        "        super(EnhancedCNN, self).__init__()\n",
        "\n",
        "        self.conv_layers = nn.Sequential(\n",
        "            nn.Conv2d(3, 64, 3, padding=1),\n",
        "            nn.BatchNorm2d(64),\n",
        "            nn.ReLU(),\n",
        "            nn.MaxPool2d(2, 2),\n",
        "\n",
        "            nn.Conv2d(64, 128, 3, padding=1),\n",
        "            nn.BatchNorm2d(128),\n",
        "            nn.ReLU(),\n",
        "            nn.MaxPool2d(2, 2),\n",
        "\n",
        "            nn.Conv2d(128, 256, 3, padding=1),\n",
        "            nn.BatchNorm2d(256),\n",
        "            nn.ReLU(),\n",
        "            nn.MaxPool2d(2, 2),\n",
        "\n",
        "            nn.Conv2d(256, 512, 3, padding=1),\n",
        "            nn.BatchNorm2d(512),\n",
        "            nn.ReLU(),\n",
        "            nn.MaxPool2d(2, 2),\n",
        "\n",
        "            nn.Conv2d(512, 512, 3, padding=1),\n",
        "            nn.BatchNorm2d(512),\n",
        "            nn.ReLU(),\n",
        "            nn.MaxPool2d(2, 2),\n",
        "        )\n",
        "\n",
        "        self.fc_layers = nn.Sequential(\n",
        "            nn.Linear(2048, 4096),\n",
        "            nn.ReLU(),\n",
        "            nn.Dropout(0.5),\n",
        "\n",
        "            nn.Linear(4096, 4096),\n",
        "            nn.ReLU(),\n",
        "            nn.Dropout(0.5),\n",
        "\n",
        "            nn.Linear(4096, 1)\n",
        "        )\n",
        "\n",
        "    def forward(self, x):\n",
        "        x = self.conv_layers(x)\n",
        "        x = x.view(x.size(0), -1)\n",
        "        x = self.fc_layers(x)\n",
        "        return x\n"
      ],
      "metadata": {
        "id": "2v7f15W2axHT"
      },
      "execution_count": null,
      "outputs": []
    },
    {
      "cell_type": "code",
      "source": [
        "# Model training function\n",
        "def train_cnn_model(num_epochs, train_loader, model, criterion, optimizer):\n",
        "  model.train()  # set the model to training mode\n",
        "  for epoch in range(num_epochs):\n",
        "      running_loss = 0.0\n",
        "      for inputs, smiles_batch, labels in train_loader:\n",
        "          inputs, labels = inputs.to(device), labels.to(device)\n",
        "          outputs = model(inputs)\n",
        "          optimizer.zero_grad()  # zero the parameter gradients\n",
        "          loss = criterion(outputs.squeeze(), labels)\n",
        "          loss.backward()\n",
        "          optimizer.step()\n",
        "          running_loss += loss.item()\n",
        "      print(f\"Epoch [{epoch + 1}/{num_epochs}], Loss: {running_loss / len(train_loader)}\")\n",
        "  print(\"Finished Training CNN\")"
      ],
      "metadata": {
        "id": "MkjId7jhcOcV"
      },
      "execution_count": null,
      "outputs": []
    },
    {
      "cell_type": "code",
      "source": [
        "model = EnhancedCNN().to(device)\n",
        "criterion = nn.BCEWithLogitsLoss()\n",
        "optimizer = optim.Adam(model.parameters(), lr=0.00001)"
      ],
      "metadata": {
        "id": "X_vw-ko3bafc"
      },
      "execution_count": null,
      "outputs": []
    },
    {
      "cell_type": "code",
      "source": [
        "train_cnn_model(50, train_loader, model, criterion, optimizer)"
      ],
      "metadata": {
        "colab": {
          "base_uri": "https://localhost:8080/"
        },
        "id": "fEfymZZieEZT",
        "outputId": "fc7562cd-6bc6-4b02-84a3-d6cb8251e9aa"
      },
      "execution_count": null,
      "outputs": [
        {
          "output_type": "stream",
          "name": "stdout",
          "text": [
            "Epoch [1/50], Loss: 0.012137137725949288\n",
            "Epoch [2/50], Loss: 0.01160596553236246\n",
            "Epoch [3/50], Loss: 0.010049744695425033\n",
            "Epoch [4/50], Loss: 0.009604930598288774\n",
            "Epoch [5/50], Loss: 0.008350745029747485\n",
            "Epoch [6/50], Loss: 0.007958111725747586\n",
            "Epoch [7/50], Loss: 0.006844064965844154\n",
            "Epoch [8/50], Loss: 0.006215535197407007\n",
            "Epoch [9/50], Loss: 0.005664347857236862\n",
            "Epoch [10/50], Loss: 0.0056022445671260355\n",
            "Epoch [11/50], Loss: 0.005427052266895771\n",
            "Epoch [12/50], Loss: 0.005043197423219681\n",
            "Epoch [13/50], Loss: 0.004054326238110662\n",
            "Epoch [14/50], Loss: 0.003913086373358965\n",
            "Epoch [15/50], Loss: 0.004010922880843282\n",
            "Epoch [16/50], Loss: 0.0039018626790493726\n",
            "Epoch [17/50], Loss: 0.003591308882459998\n",
            "Epoch [18/50], Loss: 0.0032236124854534863\n",
            "Epoch [19/50], Loss: 0.003084840811789036\n",
            "Epoch [20/50], Loss: 0.003177641145884991\n",
            "Epoch [21/50], Loss: 0.002685940079391003\n",
            "Epoch [22/50], Loss: 0.0026469002943485974\n",
            "Epoch [23/50], Loss: 0.00243656262755394\n",
            "Epoch [24/50], Loss: 0.0024696224136278033\n",
            "Epoch [25/50], Loss: 0.0021651044487953188\n",
            "Epoch [26/50], Loss: 0.0022556471638381483\n",
            "Epoch [27/50], Loss: 0.0021633140975609423\n",
            "Epoch [28/50], Loss: 0.0019695044727995993\n",
            "Epoch [29/50], Loss: 0.001861578249372542\n",
            "Epoch [30/50], Loss: 0.0016335158608853817\n",
            "Epoch [31/50], Loss: 0.0019403966842219233\n",
            "Epoch [32/50], Loss: 0.001868168287910521\n",
            "Epoch [33/50], Loss: 0.001810379303060472\n",
            "Epoch [34/50], Loss: 0.0017130916705355049\n",
            "Epoch [35/50], Loss: 0.0017305962508544325\n",
            "Epoch [36/50], Loss: 0.0014305680058896541\n",
            "Epoch [37/50], Loss: 0.0012714395066723227\n",
            "Epoch [38/50], Loss: 0.0013992669992148876\n",
            "Epoch [39/50], Loss: 0.0011745619121938944\n",
            "Epoch [40/50], Loss: 0.0012302314396947622\n",
            "Epoch [41/50], Loss: 0.0011676767840981483\n",
            "Epoch [42/50], Loss: 0.0014457997400313615\n",
            "Epoch [43/50], Loss: 0.0012433797586709262\n",
            "Epoch [44/50], Loss: 0.00103590227663517\n",
            "Epoch [45/50], Loss: 0.0010595855652354657\n",
            "Epoch [46/50], Loss: 0.0010265661287121475\n",
            "Epoch [47/50], Loss: 0.0009504740941338241\n",
            "Epoch [48/50], Loss: 0.0010488286498002708\n",
            "Epoch [49/50], Loss: 0.0009673737571574747\n",
            "Epoch [50/50], Loss: 0.0009058489231392741\n",
            "Finished Training CNN\n"
          ]
        }
      ]
    },
    {
      "cell_type": "code",
      "source": [
        "torch.save(model.state_dict(), './models/esr1_active-pred_model.pth')"
      ],
      "metadata": {
        "id": "55R9G-fJwSDq"
      },
      "execution_count": null,
      "outputs": []
    }
  ]
}