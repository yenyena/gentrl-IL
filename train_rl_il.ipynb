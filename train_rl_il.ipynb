{
  "nbformat": 4,
  "nbformat_minor": 0,
  "metadata": {
    "colab": {
      "provenance": []
    },
    "kernelspec": {
      "name": "python3",
      "display_name": "Python 3"
    },
    "language_info": {
      "name": "python"
    }
  },
  "cells": [
    {
      "cell_type": "code",
      "execution_count": null,
      "metadata": {
        "id": "0ZWBTM-HAwOB"
      },
      "outputs": [],
      "source": [
        "%%capture\n",
        "!pip3 install torch --extra-index-url https://download.pytorch.org/whl/cu116\n",
        "!pip3 install rdkit\n",
        "!pip3 install git+https://github.com/molecularsets/moses.git"
      ]
    },
    {
      "cell_type": "code",
      "source": [
        "import sys\n",
        "import os\n",
        "import torch\n",
        "torch.cuda.set_device(0)\n",
        "import pandas as pd\n",
        "import moses\n",
        "from moses.utils import disable_rdkit_log\n",
        "disable_rdkit_log()\n",
        "import importlib"
      ],
      "metadata": {
        "id": "UXHaHTU9A4sy"
      },
      "execution_count": null,
      "outputs": []
    },
    {
      "cell_type": "code",
      "source": [
        "device = torch.device('cuda' if torch.cuda.is_available() else 'cpu')\n",
        "print(device)"
      ],
      "metadata": {
        "id": "oAoa_U3-A49j"
      },
      "execution_count": null,
      "outputs": []
    },
    {
      "cell_type": "code",
      "source": [
        "from google.colab import drive\n",
        "drive.mount(\"/content/gdrive\", force_remount=True)"
      ],
      "metadata": {
        "id": "WqXwVNWbA4_6"
      },
      "execution_count": null,
      "outputs": []
    },
    {
      "cell_type": "code",
      "source": [
        "sys.path.insert(1, \"/content/gdrive/My Drive/gentrl_v2\")\n",
        "import gentrl_v2"
      ],
      "metadata": {
        "id": "Kj_3N_d0A5CS"
      },
      "execution_count": null,
      "outputs": []
    },
    {
      "cell_type": "code",
      "source": [
        "os.chdir('/content/gdrive/My Drive/gentrl_v2')"
      ],
      "metadata": {
        "id": "NhJNAdCIA5Eq"
      },
      "execution_count": null,
      "outputs": []
    },
    {
      "cell_type": "code",
      "source": [
        "LATENT_SIZE = 8\n",
        "LATENT_DESC = LATENT_SIZE * [('c', 10)]\n",
        "FEATURE_DESC = [('c', 10), ('c', 10), ('d', 3), ('c', 10)]\n",
        "BETA = 0.001\n",
        "GAMMA = 0.95\n",
        "# change according to the desired combination of data and VAE loss function\n",
        "# as described in pretrain.ipynb\n",
        "EXPERIMENT_NAME = \"009_random_cvae_rnn_50k\"\n",
        "BATCH_SIZE = 128\n",
        "NUM_ITERS = 40000\n",
        "START_ITER = 1\n",
        "LOAD_EPOCH = 400"
      ],
      "metadata": {
        "id": "cFrIzuh-BDsw"
      },
      "execution_count": null,
      "outputs": []
    },
    {
      "cell_type": "code",
      "source": [
        "enc = gentrl_v2.RNNEncoder(latent_size=LATENT_SIZE, bidirectional=True, hidden_size=128)\n",
        "dec = gentrl_v2.RNNDecoder(latent_input_size=LATENT_SIZE)\n",
        "model = gentrl_v2.GENTRL(enc, dec, LATENT_DESC, FEATURE_DESC,  beta=BETA, gamma=GAMMA, state_dim=LATENT_SIZE, action_dim=8)\n",
        "model.cuda();"
      ],
      "metadata": {
        "id": "hNxcMAPDBDu2"
      },
      "execution_count": null,
      "outputs": []
    },
    {
      "cell_type": "code",
      "source": [
        "model.load('models/'+EXPERIMENT_NAME+'/'+str(LOAD_EPOCH))\n",
        "print('Start new: models/'+EXPERIMENT_NAME+'/'+str(LOAD_EPOCH))\n",
        "model.cuda();"
      ],
      "metadata": {
        "id": "sXoWmFknBDxD"
      },
      "execution_count": null,
      "outputs": []
    },
    {
      "cell_type": "code",
      "source": [
        "experts = pd.read_csv('./data/canonized/esr1.csv')\n",
        "expert_smiles = experts['SMILES'].tolist()"
      ],
      "metadata": {
        "id": "SadiP2ktBDzZ"
      },
      "execution_count": null,
      "outputs": []
    },
    {
      "cell_type": "code",
      "source": [
        "len(expert_smiles)"
      ],
      "metadata": {
        "id": "LwQfI_eeBbFL"
      },
      "execution_count": null,
      "outputs": []
    },
    {
      "cell_type": "code",
      "source": [
        "decoys = pd.read_csv('./data/canonized/esr1_decoys.csv')\n",
        "decoy_smiles = decoys['SMILES'].tolist()"
      ],
      "metadata": {
        "id": "2QlkTuIlBcbr"
      },
      "execution_count": null,
      "outputs": []
    },
    {
      "cell_type": "code",
      "source": [
        "len(decoy_smiles)"
      ],
      "metadata": {
        "id": "bdCqgyjFBceM"
      },
      "execution_count": null,
      "outputs": []
    },
    {
      "cell_type": "code",
      "source": [
        "# copied from MOSES\n",
        "def get_mol(smiles_or_mol):\n",
        "    '''\n",
        "    Loads SMILES/molecule into RDKit's object\n",
        "    '''\n",
        "    if isinstance(smiles_or_mol, str):\n",
        "        if len(smiles_or_mol) == 0:\n",
        "            return None\n",
        "        mol = Chem.MolFromSmiles(smiles_or_mol)\n",
        "        if mol is None:\n",
        "            return None\n",
        "        try:\n",
        "            Chem.SanitizeMol(mol)\n",
        "        except:\n",
        "            return None\n",
        "        return mol\n",
        "    return smiles_or_mol"
      ],
      "metadata": {
        "id": "o_gjaepzB2iS"
      },
      "execution_count": null,
      "outputs": []
    },
    {
      "cell_type": "code",
      "source": [
        "from moses.metrics import mol_passes_filters, QED, SA, logP\n",
        "from moses.metrics.utils import get_n_rings, get_mol\n",
        "from rdkit import Chem\n",
        "from rdkit.Chem import QED, Descriptors, RDConfig, MolFromSmiles, SanitizeMol, MolToSmiles, AddHs\n",
        "import os\n",
        "import sys\n",
        "sys.path.append(os.path.join(RDConfig.RDContribDir, 'SA_Score'))\n",
        "import sascorer\n",
        "\n",
        "from moses.utils import disable_rdkit_log\n",
        "disable_rdkit_log()\n",
        "\n",
        "def get_num_rings_6(mol):\n",
        "    r = mol.GetRingInfo()\n",
        "    return len([x for x in r.AtomRings() if len(x) > 6])\n",
        "\n",
        "# added QED to favor molecules with high predicted bioactivity\n",
        "def penalized_logP(mol_or_smiles, masked=False, default=-5):\n",
        "    mol = get_mol(mol_or_smiles)\n",
        "    if mol is None:\n",
        "        return default\n",
        "    reward = QED.qed(mol)*(Descriptors.MolLogP(mol) - sascorer.calculateScore(mol) - get_num_rings_6(mol))\n",
        "    return reward"
      ],
      "metadata": {
        "id": "WOF0SP01B5ux"
      },
      "execution_count": null,
      "outputs": []
    },
    {
      "cell_type": "code",
      "source": [
        "model.train_as_rl(reward_fn=penalized_logP,\n",
        "                  train_name=EXPERIMENT_NAME,\n",
        "                  num_iterations=NUM_ITERS,\n",
        "                  batch_size=BATCH_SIZE,\n",
        "                  lr_lp=1e-4, lr_dec=1e-5,\n",
        "                  explore_perc=0.3)"
      ],
      "metadata": {
        "id": "1oLbe4YbBkd_"
      },
      "execution_count": null,
      "outputs": []
    },
    {
      "cell_type": "code",
      "source": [
        "model.train_as_il(expert_smiles=expert_smiles,\n",
        "                  train_name=EXPERIMENT_NAME,\n",
        "                  num_iterations=NUM_ITERS,\n",
        "                  batch_size=BATCH_SIZE,\n",
        "                  compare_batch_size=BATCH_SIZE,\n",
        "                  lr_lp=1e-4, lr_dec=1e-5,\n",
        "                  initial_explore_perc=0.9, final_explore_perc=0.3)"
      ],
      "metadata": {
        "id": "uAYjnVkHBklh"
      },
      "execution_count": null,
      "outputs": []
    },
    {
      "cell_type": "code",
      "source": [
        "model.train_as_il2(expert_smiles=expert_smiles,\n",
        "                  train_name=EXPERIMENT_NAME,\n",
        "                  num_iterations=NUM_ITERS,\n",
        "                  batch_size=BATCH_SIZE,\n",
        "                  compare_batch_size=BATCH_SIZE,\n",
        "                  lr_lp=1e-4, lr_dec=1e-5,\n",
        "                  initial_explore_perc=0.9, final_explore_perc=0.3)"
      ],
      "metadata": {
        "id": "cXZXEjI8BktR"
      },
      "execution_count": null,
      "outputs": []
    },
    {
      "cell_type": "code",
      "source": [
        "model.train_as_il3(expert_smiles=expert_smiles,\n",
        "                  train_name=EXPERIMENT_NAME,\n",
        "                  num_iterations=NUM_ITERS,\n",
        "                  batch_size=BATCH_SIZE,\n",
        "                  compare_batch_size=BATCH_SIZE,\n",
        "                  lr_lp=1e-4, lr_dec=1e-5,\n",
        "                  initial_explore_perc=0.9, final_explore_perc=0.3)"
      ],
      "metadata": {
        "id": "2tRhP97dBk1w"
      },
      "execution_count": null,
      "outputs": []
    },
    {
      "cell_type": "code",
      "source": [
        "model.train_as_il4(expert_smiles=expert_smiles,\n",
        "                  train_name=EXPERIMENT_NAME,\n",
        "                  num_iterations=NUM_ITERS,\n",
        "                  batch_size=BATCH_SIZE,\n",
        "                  compare_batch_size=BATCH_SIZE,\n",
        "                  lr_lp=1e-4, lr_dec=1e-5,\n",
        "                  initial_explore_perc=0.3, final_explore_perc=0.3)"
      ],
      "metadata": {
        "id": "XvN-ML8CBk9p"
      },
      "execution_count": null,
      "outputs": []
    },
    {
      "cell_type": "code",
      "source": [
        "model.train_as_il5(expert_smiles=expert_smiles,\n",
        "                  train_name=EXPERIMENT_NAME,\n",
        "                  num_iterations=NUM_ITERS,\n",
        "                  batch_size=BATCH_SIZE,\n",
        "                  compare_batch_size=BATCH_SIZE,\n",
        "                  lr_lp=1e-4, lr_dec=1e-5,\n",
        "                  initial_explore_perc=0.9, final_explore_perc=0.3)"
      ],
      "metadata": {
        "id": "SXFXt8oNBci6"
      },
      "execution_count": null,
      "outputs": []
    }
  ]
}