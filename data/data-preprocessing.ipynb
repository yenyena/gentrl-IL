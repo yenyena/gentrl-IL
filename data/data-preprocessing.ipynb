{
 "cells": [
  {
   "cell_type": "code",
   "execution_count": 1,
   "id": "5efe8001-30eb-4754-acf6-7238934facec",
   "metadata": {},
   "outputs": [],
   "source": [
    "import pandas as pd\n",
    "import numpy as np\n",
    "from rdkit import Chem\n",
    "from rdkit.Chem import Descriptors, QED, RDConfig, rdmolops, inchi\n",
    "from sklearn.model_selection import train_test_split\n",
    "import random\n",
    "import os\n",
    "import sys\n",
    "sys.path.append(os.path.join(RDConfig.RDContribDir, 'SA_Score'))\n",
    "import sascorer"
   ]
  },
  {
   "cell_type": "code",
   "execution_count": 2,
   "id": "1c6f92a5-2c58-4e9b-899d-5bf03e6082d6",
   "metadata": {},
   "outputs": [],
   "source": [
    "# expert dataset - ESR1 actives \n",
    "expert_df = pd.read_csv('./esr1.csv')\n",
    "expert_smiles = expert_df['SMILES'].tolist()"
   ]
  },
  {
   "cell_type": "code",
   "execution_count": 3,
   "id": "476ecc42-4beb-438c-a6a7-e0650226b52a",
   "metadata": {},
   "outputs": [],
   "source": [
    "# training dataset - MOSES\n",
    "training_df = pd.read_csv('./dataset_v1.csv')\n",
    "training_smiles = training_df['SMILES'].tolist()"
   ]
  },
  {
   "cell_type": "code",
   "execution_count": 4,
   "id": "9397a3d8-29aa-4413-9560-cddf4678b6bf",
   "metadata": {},
   "outputs": [],
   "source": [
    "def canonicalize_smiles_without_stereo(smis):\n",
    "    \"\"\"Convert a list of SMILES strings to their canonical forms without stereochemistry.\"\"\"\n",
    "    cans = []\n",
    "    for smi in smis:\n",
    "        mol = Chem.MolFromSmiles(smi)\n",
    "        if mol:\n",
    "            Chem.rdmolops.RemoveStereochemistry(mol)\n",
    "            cans.append(Chem.MolToSmiles(mol, isomericSmiles=False))\n",
    "    return cans\n"
   ]
  },
  {
   "cell_type": "code",
   "execution_count": 5,
   "id": "78559ea7-19d7-4323-8388-6d36b12d07aa",
   "metadata": {},
   "outputs": [],
   "source": [
    "# canonizing smiles\n",
    "expert_smiles = canonicalize_smiles_without_stereo(expert_smiles)\n",
    "training_smiles = canonicalize_smiles_without_stereo(training_smiles)"
   ]
  },
  {
   "cell_type": "code",
   "execution_count": 6,
   "id": "b56a9b01-56e5-41d5-b1d9-2411f793fb9d",
   "metadata": {},
   "outputs": [],
   "source": [
    "def get_inchikey(smiles):\n",
    "    \"\"\"Get molecule InChIKey from SMILES.\"\"\"\n",
    "    mol = Chem.MolFromSmiles(smiles)\n",
    "    if mol:\n",
    "        return inchi.MolToInchiKey(mol)\n",
    "    else:\n",
    "        return None"
   ]
  },
  {
   "cell_type": "code",
   "execution_count": 7,
   "id": "e3231afc-2f52-4ab7-b042-e0a5bab6cfc4",
   "metadata": {},
   "outputs": [],
   "source": [
    "def discard_isomers(smiles_list):\n",
    "    \"\"\"Discard stereoisomers from a list of SMILES.\"\"\"\n",
    "    inchikeys = [get_inchikey(smi) for smi in smiles_list]\n",
    "    \n",
    "    # Extract the first part of the InChIKey (before the first dash) to represent molecular connectivity\n",
    "    inchikey_parts = [key.split(\"-\")[0] if key else None for key in inchikeys]\n",
    "    \n",
    "    # Create a dictionary with the first part of the InChIKey as the key and the SMILES as the values\n",
    "    inchikey_to_smiles = {}\n",
    "    for ikey, smi in zip(inchikey_parts, smiles_list):\n",
    "        if ikey:\n",
    "            if ikey in inchikey_to_smiles:\n",
    "                inchikey_to_smiles[ikey].append(smi)\n",
    "            else:\n",
    "                inchikey_to_smiles[ikey] = [smi]\n",
    "                \n",
    "    # From each group of stereoisomers (with the same molecular connectivity), pick one randomly\n",
    "    retained_smiles = [random.choice(smiles) for smiles in inchikey_to_smiles.values()]\n",
    "    \n",
    "    return retained_smiles"
   ]
  },
  {
   "cell_type": "code",
   "execution_count": 8,
   "id": "1e1dc085-4822-4cfa-ae2d-82d9b515ec30",
   "metadata": {},
   "outputs": [],
   "source": [
    "# discarding stereoisomers\n",
    "expert_smiles = discard_isomers(expert_smiles)\n",
    "training_smiles = discard_isomers(training_smiles)"
   ]
  },
  {
   "cell_type": "code",
   "execution_count": 9,
   "id": "1b6f2985-ca2f-4907-8158-503543dea1d0",
   "metadata": {},
   "outputs": [],
   "source": [
    "# make DataFrames to store chemical properties\n",
    "expert_df = pd.DataFrame(expert_smiles, columns=['SMILES'])\n",
    "training_df = pd.DataFrame(training_smiles, columns=['SMILES'])"
   ]
  },
  {
   "cell_type": "code",
   "execution_count": 10,
   "id": "7b345dc7-e5dc-439a-908a-e561ac8ad110",
   "metadata": {},
   "outputs": [],
   "source": [
    "# EXPORT - this is the expert dataset for imitation learning\n",
    "expert_df.to_csv('./esr1_canonized.csv', index=False)"
   ]
  },
  {
   "cell_type": "code",
   "execution_count": 11,
   "id": "8f095ef0-078e-425d-96f7-e71b4cba28bf",
   "metadata": {},
   "outputs": [],
   "source": [
    "# copied from MOSES\n",
    "def get_mol(smiles_or_mol):\n",
    "    '''\n",
    "    Loads SMILES/molecule into RDKit's object\n",
    "    '''\n",
    "    if isinstance(smiles_or_mol, str):\n",
    "        if len(smiles_or_mol) == 0:\n",
    "            return None\n",
    "        mol = Chem.MolFromSmiles(smiles_or_mol)\n",
    "        if mol is None:\n",
    "            return None\n",
    "        try:\n",
    "            Chem.SanitizeMol(mol)\n",
    "        except ValueError:\n",
    "            return None\n",
    "        return mol\n",
    "    return smiles_or_mol"
   ]
  },
  {
   "cell_type": "code",
   "execution_count": 12,
   "id": "b4982fe0-cc4b-4a17-9bc2-f745c70b039d",
   "metadata": {},
   "outputs": [],
   "source": [
    "def get_descriptor(mol_or_smiles, descriptor):\n",
    "    \"\"\"Get the function for calculating a given chemical property.\"\"\"\n",
    "    mol = get_mol(mol_or_smiles)\n",
    "    if mol is None:\n",
    "        return None\n",
    "    if descriptor == 'logP':\n",
    "        return Descriptors.MolLogP(mol)\n",
    "    elif descriptor == 'SA':\n",
    "        return sascorer.calculateScore(mol)\n",
    "    elif descriptor == 'QED':\n",
    "        return QED.qed(mol)\n",
    "    else:\n",
    "        print('Something went wrong')"
   ]
  },
  {
   "cell_type": "code",
   "execution_count": 13,
   "id": "912d4978-2681-4315-be70-487401721d57",
   "metadata": {},
   "outputs": [],
   "source": [
    "# calculating chemical properties of interest and adding them to the DataFrames\n",
    "expert_df['logP'] = expert_df['SMILES'].apply(lambda x: get_descriptor(x, 'logP'))\n",
    "expert_df['SA'] = expert_df['SMILES'].apply(lambda x: get_descriptor(x, 'SA'))\n",
    "expert_df['QED'] = expert_df['SMILES'].apply(lambda x: get_descriptor(x, 'QED'))\n",
    "\n",
    "training_df['logP'] = training_df['SMILES'].apply(lambda x: get_descriptor(x, 'logP'))\n",
    "training_df['SA'] = training_df['SMILES'].apply(lambda x: get_descriptor(x, 'SA'))\n",
    "training_df['QED'] = training_df['SMILES'].apply(lambda x: get_descriptor(x, 'QED'))"
   ]
  },
  {
   "cell_type": "code",
   "execution_count": 14,
   "id": "b45b0390-6c7e-436c-bec1-c6a4b3ef054e",
   "metadata": {},
   "outputs": [],
   "source": [
    "# dropping duplicates\n",
    "common_rows = pd.merge(expert_df, training_df, on='SMILES')\n",
    "training_df = training_df.merge(common_rows[['SMILES']], on='SMILES', how='left', indicator=True)\n",
    "training_df = training_df[training_df['_merge'] == 'left_only']\n",
    "training_df.drop(columns=['_merge'], inplace=True)"
   ]
  },
  {
   "cell_type": "code",
   "execution_count": 15,
   "id": "508f1859-a005-493b-8831-a8929291ad57",
   "metadata": {},
   "outputs": [],
   "source": [
    "# optional intermittent save to have full datasets with properties\n",
    "# expert_df.to_csv('./esr1_w-prop.csv', index=False)\n",
    "# training_df.to_csv('./moses_w-prop.csv', index=False)"
   ]
  },
  {
   "cell_type": "code",
   "execution_count": 16,
   "id": "1ee4a5a5-efe6-4d4d-aec8-e89ffd6e74f6",
   "metadata": {},
   "outputs": [],
   "source": [
    "# randomly pick 60000 rows to get the non-biased training dataset\n",
    "sampled_df = training_df.sample(n=60000, replace=False, random_state=42)"
   ]
  },
  {
   "cell_type": "code",
   "execution_count": 17,
   "id": "d08246c0-e7b6-476d-9950-8cef9dff49af",
   "metadata": {},
   "outputs": [],
   "source": [
    "# split the sampled_df into train, val and test\n",
    "moses_train, temp_df = train_test_split(sampled_df, train_size=50000, random_state=42)\n",
    "moses_val, moses_test = train_test_split(temp_df, train_size=5000, random_state=42)"
   ]
  },
  {
   "cell_type": "code",
   "execution_count": 18,
   "id": "61080848-2701-4466-82e0-3d10ed339af7",
   "metadata": {},
   "outputs": [],
   "source": [
    "# EXPORT - get the three datasets which will be used for VAE training\n",
    "moses_train.to_csv('./moses_train_50k.csv', index=False)\n",
    "moses_val.to_csv('./moses_val_5k.csv', index=False)\n",
    "moses_test.to_csv('./moses_test_5k.csv', index=False)"
   ]
  },
  {
   "cell_type": "code",
   "execution_count": 19,
   "id": "5292159e-06d5-42ab-8eb3-7c11079a9e39",
   "metadata": {},
   "outputs": [],
   "source": [
    "def sample_within_boundaries(df, target, n_samples, max_vals=None, min_vals=None):\n",
    "    \"\"\"\n",
    "    Samples molecules from the training dataframe based on chemical properties boundaries \n",
    "    set by the target dataframe.\n",
    "    \n",
    "    Parameters:\n",
    "        df (pd.DataFrame): Training molecules dataframe with SMILES and chemical properties.\n",
    "        target (pd.DataFrame): Target molecules dataframe with SMILES and chemical properties.\n",
    "        n_samples (int): Number of molecules to sample.\n",
    "        max_vals (dict, optional): Additional upper boundaries for certain properties.\n",
    "        min_vals (dict, optional): Additional lower boundaries for certain properties.\n",
    "\n",
    "    Returns:\n",
    "        pd.DataFrame: Sampled dataframe.\n",
    "    \"\"\"\n",
    "    \n",
    "    # extract property columns\n",
    "    property_cols = [col for col in df.columns if col != 'SMILES']\n",
    "\n",
    "    # determine boundaries from target dataframe\n",
    "    target_mins = target[property_cols].min()\n",
    "    target_maxs = target[property_cols].max()\n",
    "\n",
    "    # apply additional constraints if provided\n",
    "    if max_vals:\n",
    "        for key, value in max_vals.items():\n",
    "            if key in target_maxs:\n",
    "                target_maxs[key] = min(target_maxs[key], value)\n",
    "\n",
    "    if min_vals:\n",
    "        for key, value in min_vals.items():\n",
    "            if key in target_mins:\n",
    "                target_mins[key] = max(target_mins[key], value)\n",
    "    \n",
    "    # filter the training dataframe based on the boundaries\n",
    "    mask = (df[property_cols] >= target_mins) & (df[property_cols] <= target_maxs)\n",
    "    filtered_df = df[mask.all(axis=1)]\n",
    "\n",
    "    # sample from the filtered dataframe\n",
    "    sampled_df = filtered_df.sample(n=min(n_samples, len(filtered_df)), random_state=42)\n",
    "\n",
    "    return sampled_df"
   ]
  },
  {
   "cell_type": "code",
   "execution_count": 20,
   "id": "5ca1e5d1-98b0-45cc-aa3b-ade444bd150b",
   "metadata": {},
   "outputs": [],
   "source": [
    "# sample from training_df based on properties of expert_df to obtain the biased dataset\n",
    "biased_df = sample_within_boundaries(training_df, expert_df, 60000, min_vals={'QED': 0.8}, max_vals={'SA': 3})"
   ]
  },
  {
   "cell_type": "code",
   "execution_count": 21,
   "id": "27b02e6c-645d-4788-90c3-318ca261a6b5",
   "metadata": {},
   "outputs": [],
   "source": [
    "# split the sampled biased_df into train, val and test\n",
    "biased_train, temp_df = train_test_split(biased_df, train_size=50000, random_state=42)\n",
    "biased_val, biased_test = train_test_split(temp_df, train_size=5000, random_state=42)"
   ]
  },
  {
   "cell_type": "code",
   "execution_count": 22,
   "id": "c676e045-d446-47ba-b7a6-3c5506bfdec6",
   "metadata": {},
   "outputs": [],
   "source": [
    "# EXPORT - get the three datasets which will be used for VAE training\n",
    "biased_train.to_csv('./moses_biased_train_50k.csv', index=False)\n",
    "biased_val.to_csv('./moses_biased_val_5k.csv', index=False)\n",
    "biased_test.to_csv('./moses_biased_test_5k.csv', index=False)"
   ]
  }
 ],
 "metadata": {
  "kernelspec": {
   "display_name": "rdkit-env",
   "language": "python",
   "name": "rdkit-env"
  },
  "language_info": {
   "codemirror_mode": {
    "name": "ipython",
    "version": 3
   },
   "file_extension": ".py",
   "mimetype": "text/x-python",
   "name": "python",
   "nbconvert_exporter": "python",
   "pygments_lexer": "ipython3",
   "version": "3.8.16"
  }
 },
 "nbformat": 4,
 "nbformat_minor": 5
}
